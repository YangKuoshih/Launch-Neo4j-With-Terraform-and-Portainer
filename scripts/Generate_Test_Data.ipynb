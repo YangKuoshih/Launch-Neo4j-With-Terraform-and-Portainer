{
 "cells": [
  {
   "cell_type": "markdown",
   "metadata": {},
   "source": [
    "# Import libraries and Create Reference Data"
   ]
  },
  {
   "cell_type": "markdown",
   "metadata": {},
   "source": [
    "# %% [markdown]\n",
    "# # Generate Synthetic Financial Test Data (Jupyter Version)\n",
    "# \n",
    "# This notebook generates **Counterparties.csv** and **Transactions.csv** that match the\n",
    "# updated requirements for your Starburst / NetworkX demos.  \n",
    "# *Default: 50 counterparties, 200 transactions (date range 2024‑01‑01 → 2025‑03‑31).*\n",
    "# \n",
    "# You can run the whole notebook top‑to‑bottom or tweak the parameters in the first\n",
    "# cell and rerun just the generation steps.\n",
    "# \n",
    "# --"
   ]
  },
  {
   "cell_type": "code",
   "execution_count": 7,
   "metadata": {},
   "outputs": [],
   "source": [
    "\n",
    "# %%\n",
    "# Parameters – tweak as needed\n",
    "NUM_COUNTERPARTIES = 50\n",
    "NUM_TRANSACTIONS = 200\n",
    "TRADE_START = \"2024-01-01\"\n",
    "TRADE_END = \"2025-03-31\"\n",
    "OUTPUT_DIR = \"./data\"  # folder to write CSVs\n",
    "\n",
    "# %%\n",
    "# Imports & helper functions\n",
    "import random, string\n",
    "from datetime import datetime\n",
    "from pathlib import Path\n",
    "\n",
    "import numpy as np\n",
    "import pandas as pd\n",
    "from pandas.tseries.offsets import BusinessDay"
   ]
  },
  {
   "cell_type": "code",
   "execution_count": 8,
   "metadata": {},
   "outputs": [],
   "source": [
    "\n",
    "def rand_cusip() -> str:\n",
    "    \"\"\"Return a 9‑character alphanumeric CUSIP starting with '9'.\"\"\"\n",
    "    return \"9\" + \"\".join(random.choices(string.ascii_uppercase + string.digits, k=8))\n",
    "\n",
    "\n",
    "def rand_biz_day(start: datetime, end: datetime) -> pd.Timestamp:\n",
    "    \"\"\"Random business day between *start* and *end* (inclusive).\"\"\"\n",
    "    bdays = pd.bdate_range(start=start, end=end, freq=\"C\")\n",
    "    return pd.Timestamp(np.random.choice(bdays))"
   ]
  },
  {
   "cell_type": "markdown",
   "metadata": {},
   "source": [
    "\n",
    "# %% [markdown]\n",
    "# ## Generate Counterparties"
   ]
  },
  {
   "cell_type": "code",
   "execution_count": 9,
   "metadata": {},
   "outputs": [],
   "source": [
    "# %%\n",
    "types = [\"Bank\", \"Broker‑Dealer\", \"Hedge Fund\", \"Asset Manager\"]\n",
    "subtypes = {\n",
    "    \"Bank\": [\"Global\", \"Regional\", \"Community\"],\n",
    "    \"Broker‑Dealer\": [\"Primary\", \"Retail\"],\n",
    "    \"Hedge Fund\": [\"Macro\", \"Long/Short\", \"Quant\"],\n",
    "    \"Asset Manager\": [\"Pension\", \"Mutual Fund\"],\n",
    "}\n",
    "domiciles = [\"US\", \"UK\", \"CA\", \"DE\", \"JP\"]\n",
    "members_flag = [\"Yes\", \"No\"]"
   ]
  },
  {
   "cell_type": "code",
   "execution_count": null,
   "metadata": {},
   "outputs": [],
   "source": [
    "\n",
    "\n",
    "def make_counterparties(n: int) -> pd.DataFrame:\n",
    "    rows = []\n",
    "    for i in range(n):\n",
    "        cp_id = f\"CP{str(i + 1).zfill(3)}\"\n",
    "        ctype = random.choice(types)\n",
    "        rows.append({\n",
    "            \"id\": cp_id,\n",
    "            \"name\": f\"Party {i + 1}\",\n",
    "            \"type\": ctype,\n",
    "            \"subtype\": random.choice(subtypes[ctype]),\n",
    "            \"domicile\": random.choice(domiciles),\n",
    "            \"ficcmember\": random.choice(members_flag),\n",
    "        })\n",
    "    return pd.DataFrame(rows)"
   ]
  },
  {
   "cell_type": "code",
   "execution_count": 11,
   "metadata": {},
   "outputs": [
    {
     "data": {
      "text/html": [
       "<div>\n",
       "<style scoped>\n",
       "    .dataframe tbody tr th:only-of-type {\n",
       "        vertical-align: middle;\n",
       "    }\n",
       "\n",
       "    .dataframe tbody tr th {\n",
       "        vertical-align: top;\n",
       "    }\n",
       "\n",
       "    .dataframe thead th {\n",
       "        text-align: right;\n",
       "    }\n",
       "</style>\n",
       "<table border=\"1\" class=\"dataframe\">\n",
       "  <thead>\n",
       "    <tr style=\"text-align: right;\">\n",
       "      <th></th>\n",
       "      <th>id</th>\n",
       "      <th>name</th>\n",
       "      <th>type</th>\n",
       "      <th>subtype</th>\n",
       "      <th>domicile</th>\n",
       "      <th>member</th>\n",
       "    </tr>\n",
       "  </thead>\n",
       "  <tbody>\n",
       "    <tr>\n",
       "      <th>0</th>\n",
       "      <td>CP001</td>\n",
       "      <td>Party 1</td>\n",
       "      <td>Bank</td>\n",
       "      <td>Global</td>\n",
       "      <td>CA</td>\n",
       "      <td>No</td>\n",
       "    </tr>\n",
       "    <tr>\n",
       "      <th>1</th>\n",
       "      <td>CP002</td>\n",
       "      <td>Party 2</td>\n",
       "      <td>Bank</td>\n",
       "      <td>Community</td>\n",
       "      <td>UK</td>\n",
       "      <td>No</td>\n",
       "    </tr>\n",
       "    <tr>\n",
       "      <th>2</th>\n",
       "      <td>CP003</td>\n",
       "      <td>Party 3</td>\n",
       "      <td>Broker‑Dealer</td>\n",
       "      <td>Primary</td>\n",
       "      <td>CA</td>\n",
       "      <td>Yes</td>\n",
       "    </tr>\n",
       "    <tr>\n",
       "      <th>3</th>\n",
       "      <td>CP004</td>\n",
       "      <td>Party 4</td>\n",
       "      <td>Bank</td>\n",
       "      <td>Global</td>\n",
       "      <td>CA</td>\n",
       "      <td>No</td>\n",
       "    </tr>\n",
       "    <tr>\n",
       "      <th>4</th>\n",
       "      <td>CP005</td>\n",
       "      <td>Party 5</td>\n",
       "      <td>Asset Manager</td>\n",
       "      <td>Pension</td>\n",
       "      <td>UK</td>\n",
       "      <td>No</td>\n",
       "    </tr>\n",
       "  </tbody>\n",
       "</table>\n",
       "</div>"
      ],
      "text/plain": [
       "      id     name           type    subtype domicile member\n",
       "0  CP001  Party 1           Bank     Global       CA     No\n",
       "1  CP002  Party 2           Bank  Community       UK     No\n",
       "2  CP003  Party 3  Broker‑Dealer    Primary       CA    Yes\n",
       "3  CP004  Party 4           Bank     Global       CA     No\n",
       "4  CP005  Party 5  Asset Manager    Pension       UK     No"
      ]
     },
     "execution_count": 11,
     "metadata": {},
     "output_type": "execute_result"
    }
   ],
   "source": [
    "counterparties_df = make_counterparties(NUM_COUNTERPARTIES)\n",
    "counterparties_df.head()\n"
   ]
  },
  {
   "cell_type": "markdown",
   "metadata": {},
   "source": [
    "# %% [markdown]\n",
    "# ## Generate Transactions"
   ]
  },
  {
   "cell_type": "code",
   "execution_count": 12,
   "metadata": {},
   "outputs": [],
   "source": [
    "# %%\n",
    "collateral_types = [\n",
    "    \"Government Bond\",\n",
    "    \"Corporate Bond\",\n",
    "    \"Equity\",\n",
    "    \"Treasury Bill\",\n",
    "    \"Agency MBS\",\n",
    "]\n",
    "clearinghouses = [\"FICC\", \"LCH\", \"ICE\"]\n"
   ]
  },
  {
   "cell_type": "code",
   "execution_count": 13,
   "metadata": {},
   "outputs": [
    {
     "data": {
      "text/html": [
       "<div>\n",
       "<style scoped>\n",
       "    .dataframe tbody tr th:only-of-type {\n",
       "        vertical-align: middle;\n",
       "    }\n",
       "\n",
       "    .dataframe tbody tr th {\n",
       "        vertical-align: top;\n",
       "    }\n",
       "\n",
       "    .dataframe thead th {\n",
       "        text-align: right;\n",
       "    }\n",
       "</style>\n",
       "<table border=\"1\" class=\"dataframe\">\n",
       "  <thead>\n",
       "    <tr style=\"text-align: right;\">\n",
       "      <th></th>\n",
       "      <th>id</th>\n",
       "      <th>tradeDate</th>\n",
       "      <th>settlementDate</th>\n",
       "      <th>maturityDate</th>\n",
       "      <th>cashAmount</th>\n",
       "      <th>repoRate</th>\n",
       "      <th>collateralType</th>\n",
       "      <th>CUSIP</th>\n",
       "      <th>clearinghouse</th>\n",
       "      <th>cashlender</th>\n",
       "      <th>cashborrower</th>\n",
       "    </tr>\n",
       "  </thead>\n",
       "  <tbody>\n",
       "    <tr>\n",
       "      <th>0</th>\n",
       "      <td>T0001</td>\n",
       "      <td>2024-10-31</td>\n",
       "      <td>2024-11-01</td>\n",
       "      <td>2024-11-01</td>\n",
       "      <td>5015701.38</td>\n",
       "      <td>0.0311</td>\n",
       "      <td>Agency MBS</td>\n",
       "      <td>9JADQEHY0</td>\n",
       "      <td>ICE</td>\n",
       "      <td>CP037</td>\n",
       "      <td>CP003</td>\n",
       "    </tr>\n",
       "    <tr>\n",
       "      <th>1</th>\n",
       "      <td>T0002</td>\n",
       "      <td>2024-07-15</td>\n",
       "      <td>2024-07-16</td>\n",
       "      <td>2024-07-16</td>\n",
       "      <td>3858548.29</td>\n",
       "      <td>0.0889</td>\n",
       "      <td>Agency MBS</td>\n",
       "      <td>9SFHS8P6J</td>\n",
       "      <td>FICC</td>\n",
       "      <td>CP050</td>\n",
       "      <td>CP020</td>\n",
       "    </tr>\n",
       "    <tr>\n",
       "      <th>2</th>\n",
       "      <td>T0003</td>\n",
       "      <td>2024-10-18</td>\n",
       "      <td>2024-10-21</td>\n",
       "      <td>2024-10-21</td>\n",
       "      <td>2439639.15</td>\n",
       "      <td>0.0208</td>\n",
       "      <td>Agency MBS</td>\n",
       "      <td>9H255HDOS</td>\n",
       "      <td>LCH</td>\n",
       "      <td>CP026</td>\n",
       "      <td>CP012</td>\n",
       "    </tr>\n",
       "    <tr>\n",
       "      <th>3</th>\n",
       "      <td>T0004</td>\n",
       "      <td>2024-05-30</td>\n",
       "      <td>2024-05-31</td>\n",
       "      <td>2024-05-31</td>\n",
       "      <td>5044036.04</td>\n",
       "      <td>0.0974</td>\n",
       "      <td>Government Bond</td>\n",
       "      <td>96EXPKJLA</td>\n",
       "      <td>LCH</td>\n",
       "      <td>CP001</td>\n",
       "      <td>CP019</td>\n",
       "    </tr>\n",
       "    <tr>\n",
       "      <th>4</th>\n",
       "      <td>T0005</td>\n",
       "      <td>2024-03-15</td>\n",
       "      <td>2024-03-18</td>\n",
       "      <td>2024-03-18</td>\n",
       "      <td>4925484.13</td>\n",
       "      <td>0.0554</td>\n",
       "      <td>Equity</td>\n",
       "      <td>98LMHNL0Z</td>\n",
       "      <td>FICC</td>\n",
       "      <td>CP024</td>\n",
       "      <td>CP003</td>\n",
       "    </tr>\n",
       "  </tbody>\n",
       "</table>\n",
       "</div>"
      ],
      "text/plain": [
       "      id   tradeDate settlementDate maturityDate  cashAmount  repoRate  \\\n",
       "0  T0001  2024-10-31     2024-11-01   2024-11-01  5015701.38    0.0311   \n",
       "1  T0002  2024-07-15     2024-07-16   2024-07-16  3858548.29    0.0889   \n",
       "2  T0003  2024-10-18     2024-10-21   2024-10-21  2439639.15    0.0208   \n",
       "3  T0004  2024-05-30     2024-05-31   2024-05-31  5044036.04    0.0974   \n",
       "4  T0005  2024-03-15     2024-03-18   2024-03-18  4925484.13    0.0554   \n",
       "\n",
       "    collateralType      CUSIP clearinghouse cashlender cashborrower  \n",
       "0       Agency MBS  9JADQEHY0           ICE      CP037        CP003  \n",
       "1       Agency MBS  9SFHS8P6J          FICC      CP050        CP020  \n",
       "2       Agency MBS  9H255HDOS           LCH      CP026        CP012  \n",
       "3  Government Bond  96EXPKJLA           LCH      CP001        CP019  \n",
       "4           Equity  98LMHNL0Z          FICC      CP024        CP003  "
      ]
     },
     "execution_count": 13,
     "metadata": {},
     "output_type": "execute_result"
    }
   ],
   "source": [
    "def make_transactions(n: int, cp_ids, start: str, end: str) -> pd.DataFrame:\n",
    "    rows = []\n",
    "    for i in range(n):\n",
    "        trade_dt = rand_biz_day(pd.Timestamp(start), pd.Timestamp(end))\n",
    "        settle_dt = trade_dt + BusinessDay(1)\n",
    "        lender, borrower = random.sample(cp_ids, 2)\n",
    "        rows.append({\n",
    "            \"id\": f\"T{str(i + 1).zfill(4)}\",\n",
    "            \"tradeDate\": trade_dt.strftime(\"%Y-%m-%d\"),\n",
    "            \"settlementDate\": settle_dt.strftime(\"%Y-%m-%d\"),\n",
    "            \"maturityDate\": settle_dt.strftime(\"%Y-%m-%d\"),\n",
    "            \"cashAmount\": round(random.uniform(1_000_000, 10_000_000), 2),\n",
    "            \"repoRate\": round(random.uniform(0.01, 0.10), 4),\n",
    "            \"collateralType\": random.choice(collateral_types),\n",
    "            \"CUSIP\": rand_cusip(),\n",
    "            \"clearinghouse\": random.choice(clearinghouses),\n",
    "            \"cashlender\": lender,\n",
    "            \"cashborrower\": borrower,\n",
    "        })\n",
    "    return pd.DataFrame(rows)\n",
    "\n",
    "transactions_df = make_transactions(\n",
    "    NUM_TRANSACTIONS, counterparties_df[\"id\"].tolist(), TRADE_START, TRADE_END\n",
    ")\n",
    "transactions_df.head()"
   ]
  },
  {
   "cell_type": "markdown",
   "metadata": {},
   "source": [
    "# %% [markdown]\n",
    "# ## Save CSVs"
   ]
  },
  {
   "cell_type": "code",
   "execution_count": 14,
   "metadata": {},
   "outputs": [
    {
     "name": "stdout",
     "output_type": "stream",
     "text": [
      "✅ Wrote data\\Counterparties.csv\n",
      "✅ Wrote data\\Transactions.csv\n"
     ]
    }
   ],
   "source": [
    "# %%\n",
    "output_dir = Path(OUTPUT_DIR)\n",
    "output_dir.mkdir(parents=True, exist_ok=True)\n",
    "\n",
    "cp_path = output_dir / \"Counterparties.csv\"\n",
    "tx_path = output_dir / \"Transactions.csv\"\n",
    "\n",
    "counterparties_df.to_csv(cp_path, index=False)\n",
    "transactions_df.to_csv(tx_path, index=False)\n",
    "\n",
    "print(f\"✅ Wrote {cp_path}\\n✅ Wrote {tx_path}\")"
   ]
  },
  {
   "cell_type": "markdown",
   "metadata": {},
   "source": [
    "# %% [markdown]\n",
    "# ### Quick sanity checks\n"
   ]
  },
  {
   "cell_type": "code",
   "execution_count": 15,
   "metadata": {},
   "outputs": [
    {
     "name": "stdout",
     "output_type": "stream",
     "text": [
      "Counterparty sample:\n",
      "    id     name          type     subtype domicile member\n",
      "CP027 Party 27 Broker‑Dealer      Retail       DE    Yes\n",
      "CP013 Party 13 Broker‑Dealer     Primary       DE    Yes\n",
      "CP040 Party 40 Broker‑Dealer      Retail       DE    Yes\n",
      "CP036 Party 36 Asset Manager Mutual Fund       CA     No\n",
      "CP006  Party 6    Hedge Fund       Macro       JP     No\n",
      "\n",
      "Transaction sample:\n",
      "    id  tradeDate settlementDate maturityDate  cashAmount  repoRate collateralType     CUSIP clearinghouse cashlender cashborrower\n",
      "T0112 2024-12-06     2024-12-09   2024-12-09  9980188.15    0.0655  Treasury Bill 96LG3LW2G           ICE      CP047        CP004\n",
      "T0148 2024-01-11     2024-01-12   2024-01-12  3463550.37    0.0981  Treasury Bill 97K6UE2Y7           ICE      CP032        CP001\n",
      "T0126 2024-08-08     2024-08-09   2024-08-09  1911646.48    0.0159 Corporate Bond 9MY8MMWJ6           ICE      CP028        CP042\n",
      "T0179 2024-11-22     2024-11-25   2024-11-25  2370980.66    0.0467  Treasury Bill 9T8WNPPSR           LCH      CP050        CP003\n",
      "T0099 2024-10-07     2024-10-08   2024-10-08  2153207.60    0.0676  Treasury Bill 900G3C5DE          FICC      CP009        CP006\n"
     ]
    }
   ],
   "source": [
    "\n",
    "# %% [markdown]\n",
    "# ### Quick sanity checks\n",
    "\n",
    "# %%\n",
    "print(\"Counterparty sample:\\n\", counterparties_df.sample(5).to_string(index=False))\n",
    "print(\"\\nTransaction sample:\\n\", transactions_df.sample(5).to_string(index=False))"
   ]
  },
  {
   "cell_type": "code",
   "execution_count": 1,
   "metadata": {},
   "outputs": [],
   "source": [
    "import numpy as np\n",
    "import pandas as pd \n",
    "import datetime\n",
    "import random\n",
    "\n",
    "# Set variables\n",
    "credit_ratings = ['AAA', 'AA', 'A', 'BBB']\n",
    "collateral_types = ['Government Bond', 'Corporate Bond', 'Equity', 'Treasury Bill', 'Agency MBS']\n",
    "repo_types = ['Repo', 'Reverse Repo', 'Open Repo', 'Term Repo', 'Overnight Reverse Repo', 'Tri-Party Repo', 'Standing Repo Facility']\n",
    "\n",
    "haircut_ranges = {\n",
    "    'Government Bond': (0.01, 0.03), # 1-3%\n",
    "    'Corporate Bond': (0.03, 0.10), # 3-10%\n",
    "    'Equity': (0.05, 0.20), # 5-20%  \n",
    "    'Treasury Bill': (0.005, 0.015), # .5-1.5%\n",
    "    'Agency MBS': (0.02, 0.05) # 2-5%\n",
    "}\n"
   ]
  },
  {
   "cell_type": "code",
   "execution_count": 2,
   "metadata": {},
   "outputs": [
    {
     "name": "stdout",
     "output_type": "stream",
     "text": [
      "['AAA', 'AA', 'A', 'BBB']\n",
      "['Government Bond', 'Corporate Bond', 'Equity', 'Treasury Bill', 'Agency MBS']\n",
      "['Repo', 'Reverse Repo', 'Open Repo', 'Term Repo', 'Overnight Reverse Repo', 'Tri-Party Repo', 'Standing Repo Facility']\n"
     ]
    }
   ],
   "source": [
    "print(credit_ratings)\n",
    "print(collateral_types)\n",
    "print(repo_types)"
   ]
  },
  {
   "cell_type": "markdown",
   "metadata": {},
   "source": [
    "# Create Counterparties Data Frame"
   ]
  },
  {
   "cell_type": "code",
   "execution_count": 3,
   "metadata": {},
   "outputs": [
    {
     "name": "stdout",
     "output_type": "stream",
     "text": [
      "    CounterpartyID CounterpartyName CreditRating\n",
      "0                1          Party 1            A\n",
      "1                2          Party 2            A\n",
      "2                3          Party 3          AAA\n",
      "3                4          Party 4           AA\n",
      "4                5          Party 5           AA\n",
      "5                6          Party 6            A\n",
      "6                7          Party 7          AAA\n",
      "7                8          Party 8          AAA\n",
      "8                9          Party 9            A\n",
      "9               10         Party 10           AA\n",
      "10              11         Party 11           AA\n",
      "11              12         Party 12          BBB\n",
      "12              13         Party 13          BBB\n",
      "13              14         Party 14            A\n",
      "14              15         Party 15            A\n",
      "15              16         Party 16          BBB\n",
      "16              17         Party 17            A\n",
      "17              18         Party 18          AAA\n",
      "18              19         Party 19          BBB\n",
      "19              20         Party 20          AAA\n",
      "20              21         Party 21           AA\n",
      "21              22         Party 22           AA\n",
      "22              23         Party 23            A\n",
      "23              24         Party 24            A\n",
      "24              25         Party 25           AA\n",
      "25              26         Party 26          BBB\n",
      "26              27         Party 27          AAA\n",
      "27              28         Party 28          AAA\n",
      "28              29         Party 29            A\n",
      "29              30         Party 30          BBB\n",
      "30              31         Party 31          AAA\n",
      "31              32         Party 32           AA\n",
      "32              33         Party 33          AAA\n",
      "33              34         Party 34          BBB\n",
      "34              35         Party 35          BBB\n",
      "35              36         Party 36          BBB\n",
      "36              37         Party 37            A\n",
      "37              38         Party 38          BBB\n",
      "38              39         Party 39          BBB\n",
      "39              40         Party 40            A\n",
      "40              41         Party 41           AA\n",
      "41              42         Party 42           AA\n",
      "42              43         Party 43            A\n",
      "43              44         Party 44            A\n",
      "44              45         Party 45            A\n",
      "45              46         Party 46            A\n",
      "46              47         Party 47          AAA\n",
      "47              48         Party 48          AAA\n",
      "48              49         Party 49          AAA\n",
      "49              50         Party 50          AAA\n"
     ]
    }
   ],
   "source": [
    "num_counterparties = 50\n",
    "\n",
    "counterparties = pd.DataFrame({\n",
    "    'CounterpartyID': range(1, num_counterparties+1),\n",
    "    'CounterpartyName': [f'Party {i}' for i in range(1, num_counterparties + 1)],\n",
    "    'CreditRating': [random.choice(credit_ratings) for _ in range(num_counterparties)]\n",
    "})\n",
    "\n",
    "print(counterparties)\n"
   ]
  },
  {
   "cell_type": "markdown",
   "metadata": {},
   "source": [
    "# Create Collateral"
   ]
  },
  {
   "cell_type": "code",
   "execution_count": 4,
   "metadata": {},
   "outputs": [],
   "source": [
    "num_collateral = 200\n",
    "collateral = pd.DataFrame({\n",
    "    'CollateralID': range(1, num_collateral+1),\n",
    "    'CollateralType': [random.choice(collateral_types) for _ in range(num_collateral)],\n",
    "    'MarketValue': [random.uniform(1000000, 50000000) for _ in range(num_collateral)]\n",
    "})\n",
    "\n",
    "collateral['Haircut'] = collateral.apply(lambda row: random.uniform(*haircut_ranges[row['CollateralType']]), axis=1)"
   ]
  },
  {
   "cell_type": "markdown",
   "metadata": {},
   "source": [
    "# GENERATE TRANSACTIONS"
   ]
  },
  {
   "cell_type": "code",
   "execution_count": 5,
   "metadata": {},
   "outputs": [
    {
     "data": {
      "text/html": [
       "<div>\n",
       "<style scoped>\n",
       "    .dataframe tbody tr th:only-of-type {\n",
       "        vertical-align: middle;\n",
       "    }\n",
       "\n",
       "    .dataframe tbody tr th {\n",
       "        vertical-align: top;\n",
       "    }\n",
       "\n",
       "    .dataframe thead th {\n",
       "        text-align: right;\n",
       "    }\n",
       "</style>\n",
       "<table border=\"1\" class=\"dataframe\">\n",
       "  <thead>\n",
       "    <tr style=\"text-align: right;\">\n",
       "      <th></th>\n",
       "      <th>ID</th>\n",
       "      <th>startDate</th>\n",
       "      <th>maturityDate</th>\n",
       "      <th>cashAmount</th>\n",
       "      <th>repoType</th>\n",
       "      <th>repoRate</th>\n",
       "      <th>InitialMargin</th>\n",
       "    </tr>\n",
       "  </thead>\n",
       "  <tbody>\n",
       "    <tr>\n",
       "      <th>0</th>\n",
       "      <td>VS25B1N9</td>\n",
       "      <td>2024-10-16</td>\n",
       "      <td>2024-10-17</td>\n",
       "      <td>5634084.24</td>\n",
       "      <td>Bilateral</td>\n",
       "      <td>0.0679</td>\n",
       "      <td>0.0284</td>\n",
       "    </tr>\n",
       "    <tr>\n",
       "      <th>1</th>\n",
       "      <td>3PE0B51L</td>\n",
       "      <td>2025-02-16</td>\n",
       "      <td>2025-02-17</td>\n",
       "      <td>6195004.49</td>\n",
       "      <td>Bilateral</td>\n",
       "      <td>0.0923</td>\n",
       "      <td>0.0165</td>\n",
       "    </tr>\n",
       "    <tr>\n",
       "      <th>2</th>\n",
       "      <td>OXB9X70Z</td>\n",
       "      <td>2024-04-11</td>\n",
       "      <td>2024-04-12</td>\n",
       "      <td>2038683.14</td>\n",
       "      <td>Tri-Party</td>\n",
       "      <td>0.0387</td>\n",
       "      <td>0.0284</td>\n",
       "    </tr>\n",
       "    <tr>\n",
       "      <th>3</th>\n",
       "      <td>JOEOE24E</td>\n",
       "      <td>2025-03-29</td>\n",
       "      <td>2025-03-30</td>\n",
       "      <td>3885165.92</td>\n",
       "      <td>Tri-Party</td>\n",
       "      <td>0.0565</td>\n",
       "      <td>0.0177</td>\n",
       "    </tr>\n",
       "    <tr>\n",
       "      <th>4</th>\n",
       "      <td>0J0EHEOL</td>\n",
       "      <td>2024-04-26</td>\n",
       "      <td>2024-04-27</td>\n",
       "      <td>7158036.80</td>\n",
       "      <td>Bilateral</td>\n",
       "      <td>0.0712</td>\n",
       "      <td>0.0121</td>\n",
       "    </tr>\n",
       "  </tbody>\n",
       "</table>\n",
       "</div>"
      ],
      "text/plain": [
       "         ID   startDate maturityDate  cashAmount   repoType  repoRate  \\\n",
       "0  VS25B1N9  2024-10-16   2024-10-17  5634084.24  Bilateral    0.0679   \n",
       "1  3PE0B51L  2025-02-16   2025-02-17  6195004.49  Bilateral    0.0923   \n",
       "2  OXB9X70Z  2024-04-11   2024-04-12  2038683.14  Tri-Party    0.0387   \n",
       "3  JOEOE24E  2025-03-29   2025-03-30  3885165.92  Tri-Party    0.0565   \n",
       "4  0J0EHEOL  2024-04-26   2024-04-27  7158036.80  Bilateral    0.0712   \n",
       "\n",
       "   InitialMargin  \n",
       "0         0.0284  \n",
       "1         0.0165  \n",
       "2         0.0284  \n",
       "3         0.0177  \n",
       "4         0.0121  "
      ]
     },
     "execution_count": 5,
     "metadata": {},
     "output_type": "execute_result"
    }
   ],
   "source": [
    "import pandas as pd\n",
    "import random\n",
    "from datetime import datetime, timedelta\n",
    "import string\n",
    "\n",
    "# Define the date range for start dates\n",
    "start_date_range = datetime(2024, 1, 1)\n",
    "end_date_range = datetime(2025, 3, 31)\n",
    "days_between = (end_date_range - start_date_range).days\n",
    "\n",
    "def generate_transaction():\n",
    "    random_days = random.randint(0, days_between)\n",
    "    start_date = start_date_range + timedelta(days=random_days)\n",
    "    maturity_date = start_date + timedelta(days=1)  # Overnight repo\n",
    "\n",
    "    transaction_id = ''.join(random.choices(string.ascii_uppercase + string.digits, k=8))\n",
    "\n",
    "    return {\n",
    "        \"ID\": transaction_id,\n",
    "        \"startDate\": start_date.strftime(\"%Y-%m-%d\"),\n",
    "        \"maturityDate\": maturity_date.strftime(\"%Y-%m-%d\"),\n",
    "        \"cashAmount\": round(random.uniform(1_000_000, 10_000_000), 2),\n",
    "        \"repoType\": random.choice([\"Tri-Party\", \"Bilateral\"]),\n",
    "        \"repoRate\": round(random.uniform(0.01, 0.10), 4),\n",
    "        \"InitialMargin\": round(random.uniform(0.01, 0.03), 4)\n",
    "    }\n",
    "\n",
    "# Generate 500 transactions\n",
    "transactions = [generate_transaction() for _ in range(500)]\n",
    "\n",
    "# Convert to DataFrame for easier viewing or exporting\n",
    "df_transactions = pd.DataFrame(transactions)\n",
    "\n",
    "# Display the first few rows\n",
    "df_transactions.head()\n"
   ]
  },
  {
   "cell_type": "markdown",
   "metadata": {},
   "source": [
    "# Print Counterparties and Transactions Test Data"
   ]
  },
  {
   "cell_type": "code",
   "execution_count": null,
   "metadata": {},
   "outputs": [
    {
     "name": "stdout",
     "output_type": "stream",
     "text": [
      "Counterparties:\n",
      "    CounterpartyID CounterpartyName CreditRating\n",
      "0               1          Party 1            A\n",
      "1               2          Party 2            A\n",
      "2               3          Party 3          AAA\n",
      "3               4          Party 4           AA\n",
      "4               5          Party 5           AA\n",
      "\n",
      "Repo Transactions:\n",
      "          ID   startDate maturityDate  cashAmount   repoType  repoRate  \\\n",
      "0  VS25B1N9  2024-10-16   2024-10-17  5634084.24  Bilateral    0.0679   \n",
      "1  3PE0B51L  2025-02-16   2025-02-17  6195004.49  Bilateral    0.0923   \n",
      "2  OXB9X70Z  2024-04-11   2024-04-12  2038683.14  Tri-Party    0.0387   \n",
      "3  JOEOE24E  2025-03-29   2025-03-30  3885165.92  Tri-Party    0.0565   \n",
      "4  0J0EHEOL  2024-04-26   2024-04-27  7158036.80  Bilateral    0.0712   \n",
      "\n",
      "   InitialMargin  \n",
      "0         0.0284  \n",
      "1         0.0165  \n",
      "2         0.0284  \n",
      "3         0.0177  \n",
      "4         0.0121  \n"
     ]
    }
   ],
   "source": [
    "print(\"Counterparties:\\n\", counterparties.head())\n",
    "# print(\"\\nCollateral:\\n\", collateral.head())\n",
    "print(\"\\Repo Transactions:\\n\", df_transactions.head())\n",
    "\n",
    "counterparties.to_csv('./data/counterparties.csv', index=False)\n",
    "# collateral.to_csv('collateral.csv', index=False)\n",
    "df_transactions.to_csv('/data/transactions.csv', index=False)"
   ]
  },
  {
   "cell_type": "markdown",
   "metadata": {},
   "source": [
    "## Install Neo4j library"
   ]
  },
  {
   "cell_type": "code",
   "execution_count": 7,
   "metadata": {},
   "outputs": [
    {
     "name": "stdout",
     "output_type": "stream",
     "text": [
      "Collecting neo4j\n",
      "  Using cached neo4j-5.28.1-py3-none-any.whl.metadata (5.9 kB)\n",
      "Requirement already satisfied: pytz in d:\\users\\tony.yang\\appdata\\local\\programs\\python\\python311\\lib\\site-packages (from neo4j) (2025.2)\n",
      "Using cached neo4j-5.28.1-py3-none-any.whl (312 kB)\n",
      "Installing collected packages: neo4j\n",
      "Successfully installed neo4j-5.28.1\n",
      "Note: you may need to restart the kernel to use updated packages.\n"
     ]
    }
   ],
   "source": [
    "pip install neo4j\n"
   ]
  },
  {
   "cell_type": "markdown",
   "metadata": {},
   "source": [
    "## Make a connection to the Neo4j Database. Create two dataframes to store counterparties and transactions from the csvs"
   ]
  },
  {
   "cell_type": "code",
   "execution_count": 8,
   "metadata": {},
   "outputs": [],
   "source": [
    "from neo4j import GraphDatabase\n",
    "import pandas as pd\n",
    "\n",
    "# Load your CSVs (make sure they're in the same directory or update path)\n",
    "df_counterparties = pd.read_csv(\"counterparties.csv\")\n",
    "df_transactions = pd.read_csv(\"transactions.csv\")\n",
    "\n",
    "# Connection credentials\n",
    "NEO4J_URI = \"neo4j://ec2-3-210-231-126.compute-1.amazonaws.com:7687\"  # Update this\n",
    "NEO4J_USER = \"neo4j\"\n",
    "NEO4J_PASSWORD = \"neo4j_enterprise!\"  # Replace with actual password\n",
    "\n",
    "# Set up the driver\n",
    "driver = GraphDatabase.driver(NEO4J_URI, auth=(NEO4J_USER, NEO4J_PASSWORD))\n"
   ]
  },
  {
   "cell_type": "markdown",
   "metadata": {},
   "source": [
    "## Load Counteries and Transactions Data into the Neo4j Cluster"
   ]
  },
  {
   "cell_type": "code",
   "execution_count": 9,
   "metadata": {},
   "outputs": [],
   "source": [
    "def load_counterparties(tx, row):\n",
    "    query = \"\"\"\n",
    "    MERGE (c:Counterparty {id: $CounterpartyID})\n",
    "    SET c.name = $CounterpartyName,\n",
    "        c.rating = $CreditRating\n",
    "    \"\"\"\n",
    "    tx.run(query, **row)\n",
    "\n",
    "def load_transactions(tx, row):\n",
    "    query = \"\"\"\n",
    "    MERGE (t:Transaction {id: $ID})\n",
    "    SET t.startDate = $startDate,\n",
    "        t.maturityDate = $maturityDate,\n",
    "        t.cashAmount = $cashAmount,\n",
    "        t.repoType = $repoType,\n",
    "        t.repoRate = $repoRate,\n",
    "        t.InitialMargin = $InitialMargin\n",
    "    \"\"\"\n",
    "    tx.run(query, **row)\n"
   ]
  },
  {
   "cell_type": "markdown",
   "metadata": {},
   "source": [
    "## Write the data into Neo4j"
   ]
  },
  {
   "cell_type": "code",
   "execution_count": 10,
   "metadata": {},
   "outputs": [
    {
     "name": "stderr",
     "output_type": "stream",
     "text": [
      "D:\\Users\\tony.yang\\AppData\\Local\\Temp\\1\\ipykernel_2288\\3999102408.py:10: DeprecationWarning: write_transaction has been renamed to execute_write\n",
      "  session.write_transaction(load_counterparties, row.to_dict())\n",
      "D:\\Users\\tony.yang\\AppData\\Local\\Temp\\1\\ipykernel_2288\\3999102408.py:13: DeprecationWarning: write_transaction has been renamed to execute_write\n",
      "  session.write_transaction(load_transactions, row.to_dict())\n"
     ]
    }
   ],
   "source": [
    "import pandas as pd\n",
    "\n",
    "# Load the CSVs\n",
    "df_counterparties = pd.read_csv(\"counterparties.csv\")\n",
    "df_transactions = pd.read_csv(\"transactions.csv\")\n",
    "\n",
    "# Write data into Neo4j\n",
    "with driver.session() as session:\n",
    "    for _, row in df_counterparties.iterrows():\n",
    "        session.write_transaction(load_counterparties, row.to_dict())\n",
    "\n",
    "    for _, row in df_transactions.iterrows():\n",
    "        session.write_transaction(load_transactions, row.to_dict())\n"
   ]
  },
  {
   "cell_type": "markdown",
   "metadata": {},
   "source": [
    "## Define the relationships between Counterparty to Transactions\n",
    "### For this initial set of relationships for a single transaction depending on the repo type (Tri-Party, Bilateral) the following relationship is defined.\n",
    "\n",
    "### For a given single <b>Tri-Party</b> repo type transaction, there will be 3 unique counter parties associated with the transaction.  Each counterparty will either be a <b>Lender, Borrower, or Intermediary</b>\n",
    "\n",
    "### For a given single <b>Bilateral</b> repo type transaction, there will be 2 unique counter parties associated with the transaction.  Each counterparty will either be a <b>Lender or Borrower </b>\n",
    "\n",
    " "
   ]
  },
  {
   "cell_type": "code",
   "execution_count": 11,
   "metadata": {},
   "outputs": [
    {
     "name": "stderr",
     "output_type": "stream",
     "text": [
      "D:\\Users\\tony.yang\\AppData\\Local\\Temp\\1\\ipykernel_2288\\2925690090.py:30: DeprecationWarning: write_transaction has been renamed to execute_write\n",
      "  session.write_transaction(clear_existing_relationships)\n",
      "D:\\Users\\tony.yang\\AppData\\Local\\Temp\\1\\ipykernel_2288\\2925690090.py:59: DeprecationWarning: write_transaction has been renamed to execute_write\n",
      "  session.write_transaction(link_transaction_with_roles, tx_id, repo_type, counterparties_roles)\n"
     ]
    }
   ],
   "source": [
    "import random\n",
    "\n",
    "# All available counterparty IDs\n",
    "counterparty_ids = df_counterparties[\"CounterpartyID\"].tolist()\n",
    "\n",
    "# Role sets for each transaction type\n",
    "tri_party_roles = [\"lends\", \"borrows\", \"intermediates\"]\n",
    "bilateral_roles = [\"lends\", \"borrows\"]\n",
    "\n",
    "# Clear existing relationships first if needed\n",
    "def clear_existing_relationships(tx):\n",
    "    tx.run(\"\"\"\n",
    "    MATCH (c:Counterparty)-[r]->(t:Transaction)\n",
    "    DELETE r\n",
    "    \"\"\")\n",
    "\n",
    "# Relationship creation logic based on repo type\n",
    "def link_transaction_with_roles(tx, transaction_id, repo_type, counterparties_roles):\n",
    "    for counterparty_id, role in counterparties_roles:\n",
    "        query = f\"\"\"\n",
    "        MATCH (c:Counterparty {{id: $counterparty_id}})\n",
    "        MATCH (t:Transaction {{id: $transaction_id}})\n",
    "        MERGE (c)-[r:{role.upper()}]->(t)\n",
    "        \"\"\"\n",
    "        tx.run(query, counterparty_id=counterparty_id, transaction_id=transaction_id)\n",
    "\n",
    "# Apply the logic\n",
    "with driver.session() as session:\n",
    "    # Optional: Clear previous relationships\n",
    "    session.write_transaction(clear_existing_relationships)\n",
    "\n",
    "    used_assignments = set()  # to track used (transaction_id, counterparty_id) pairs\n",
    "\n",
    "    for _, row in df_transactions.iterrows():\n",
    "        tx_id = row[\"ID\"]\n",
    "        repo_type = row[\"repoType\"]\n",
    "        \n",
    "        # Ensure unique counterparties per transaction\n",
    "        if repo_type == \"Tri-Party\":\n",
    "            selected_roles = tri_party_roles\n",
    "        elif repo_type == \"Bilateral\":\n",
    "            selected_roles = bilateral_roles\n",
    "        else:\n",
    "            continue  # Skip unknown repo types\n",
    "        \n",
    "        # Get N unique counterparties for the transaction\n",
    "        selected_counterparties = random.sample(counterparty_ids, len(selected_roles))\n",
    "        \n",
    "        # Assign roles to those counterparties\n",
    "        counterparties_roles = list(zip(selected_counterparties, selected_roles))\n",
    "        \n",
    "        # Ensure uniqueness across transaction/role/counterparty\n",
    "        if all((tx_id, cp_id) not in used_assignments for cp_id, _ in counterparties_roles):\n",
    "            # Register assignments to prevent duplicates\n",
    "            for cp_id, _ in counterparties_roles:\n",
    "                used_assignments.add((tx_id, cp_id))\n",
    "            \n",
    "            # Write to Neo4j\n",
    "            session.write_transaction(link_transaction_with_roles, tx_id, repo_type, counterparties_roles)\n"
   ]
  }
 ],
 "metadata": {
  "kernelspec": {
   "display_name": "base",
   "language": "python",
   "name": "python3"
  },
  "language_info": {
   "codemirror_mode": {
    "name": "ipython",
    "version": 3
   },
   "file_extension": ".py",
   "mimetype": "text/x-python",
   "name": "python",
   "nbconvert_exporter": "python",
   "pygments_lexer": "ipython3",
   "version": "3.12.3"
  }
 },
 "nbformat": 4,
 "nbformat_minor": 2
}
