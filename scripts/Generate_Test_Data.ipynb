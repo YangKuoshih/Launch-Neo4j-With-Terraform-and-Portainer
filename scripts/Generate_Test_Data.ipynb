{
 "cells": [
  {
   "cell_type": "markdown",
   "metadata": {},
   "source": [
    "# Import libraries and Create Reference Data"
   ]
  },
  {
   "cell_type": "code",
   "execution_count": 1,
   "metadata": {},
   "outputs": [],
   "source": [
    "import pandas as pd \n",
    "import datetime\n",
    "import random\n",
    "\n",
    "# Set variables\n",
    "credit_ratings = ['AAA', 'AA', 'A', 'BBB']\n",
    "collateral_types = ['Government Bond', 'Corporate Bond', 'Equity', 'Treasury Bill', 'Agency MBS']\n",
    "repo_types = ['Repo', 'Reverse Repo', 'Open Repo', 'Term Repo', 'Overnight Reverse Repo', 'Tri-Party Repo', 'Standing Repo Facility']\n",
    "\n",
    "haircut_ranges = {\n",
    "    'Government Bond': (0.01, 0.03), # 1-3%\n",
    "    'Corporate Bond': (0.03, 0.10), # 3-10%\n",
    "    'Equity': (0.05, 0.20), # 5-20%  \n",
    "    'Treasury Bill': (0.005, 0.015), # .5-1.5%\n",
    "    'Agency MBS': (0.02, 0.05) # 2-5%\n",
    "}\n"
   ]
  },
  {
   "cell_type": "code",
   "execution_count": 2,
   "metadata": {},
   "outputs": [
    {
     "name": "stdout",
     "output_type": "stream",
     "text": [
      "['AAA', 'AA', 'A', 'BBB']\n",
      "['Government Bond', 'Corporate Bond', 'Equity', 'Treasury Bill', 'Agency MBS']\n",
      "['Repo', 'Reverse Repo', 'Open Repo', 'Term Repo', 'Overnight Reverse Repo', 'Tri-Party Repo', 'Standing Repo Facility']\n"
     ]
    }
   ],
   "source": [
    "print(credit_ratings)\n",
    "print(collateral_types)\n",
    "print(repo_types)"
   ]
  },
  {
   "cell_type": "markdown",
   "metadata": {},
   "source": [
    "# Create Counterparties Data Frame"
   ]
  },
  {
   "cell_type": "code",
   "execution_count": 3,
   "metadata": {},
   "outputs": [
    {
     "name": "stdout",
     "output_type": "stream",
     "text": [
      "    CounterpartyID CounterpartyName CreditRating\n",
      "0                1          Party 1          AAA\n",
      "1                2          Party 2          BBB\n",
      "2                3          Party 3            A\n",
      "3                4          Party 4          AAA\n",
      "4                5          Party 5            A\n",
      "5                6          Party 6          AAA\n",
      "6                7          Party 7            A\n",
      "7                8          Party 8          BBB\n",
      "8                9          Party 9           AA\n",
      "9               10         Party 10          BBB\n",
      "10              11         Party 11           AA\n",
      "11              12         Party 12            A\n",
      "12              13         Party 13            A\n",
      "13              14         Party 14          BBB\n",
      "14              15         Party 15          BBB\n",
      "15              16         Party 16          BBB\n",
      "16              17         Party 17            A\n",
      "17              18         Party 18          BBB\n",
      "18              19         Party 19           AA\n",
      "19              20         Party 20            A\n",
      "20              21         Party 21            A\n",
      "21              22         Party 22            A\n",
      "22              23         Party 23           AA\n",
      "23              24         Party 24           AA\n",
      "24              25         Party 25            A\n",
      "25              26         Party 26          AAA\n",
      "26              27         Party 27            A\n",
      "27              28         Party 28          AAA\n",
      "28              29         Party 29            A\n",
      "29              30         Party 30            A\n",
      "30              31         Party 31            A\n",
      "31              32         Party 32            A\n",
      "32              33         Party 33          AAA\n",
      "33              34         Party 34          BBB\n",
      "34              35         Party 35           AA\n",
      "35              36         Party 36           AA\n",
      "36              37         Party 37          BBB\n",
      "37              38         Party 38            A\n",
      "38              39         Party 39          BBB\n",
      "39              40         Party 40          BBB\n",
      "40              41         Party 41           AA\n",
      "41              42         Party 42          BBB\n",
      "42              43         Party 43          AAA\n",
      "43              44         Party 44            A\n",
      "44              45         Party 45          BBB\n",
      "45              46         Party 46          BBB\n",
      "46              47         Party 47            A\n",
      "47              48         Party 48          BBB\n",
      "48              49         Party 49            A\n",
      "49              50         Party 50           AA\n"
     ]
    }
   ],
   "source": [
    "num_counterparties = 50\n",
    "\n",
    "counterparties = pd.DataFrame({\n",
    "    'CounterpartyID': range(1, num_counterparties+1),\n",
    "    'CounterpartyName': [f'Party {i}' for i in range(1, num_counterparties + 1)],\n",
    "    'CreditRating': [random.choice(credit_ratings) for _ in range(num_counterparties)]\n",
    "})\n",
    "\n",
    "print(counterparties)\n"
   ]
  },
  {
   "cell_type": "markdown",
   "metadata": {},
   "source": [
    "# Create Collateral"
   ]
  },
  {
   "cell_type": "code",
   "execution_count": 165,
   "metadata": {},
   "outputs": [],
   "source": [
    "num_collateral = 200\n",
    "collateral = pd.DataFrame({\n",
    "    'CollateralID': range(1, num_collateral+1),\n",
    "    'CollateralType': [random.choice(collateral_types) for _ in range(num_collateral)],\n",
    "    'MarketValue': [random.uniform(1000000, 50000000) for _ in range(num_collateral)]\n",
    "})\n",
    "\n",
    "collateral['Haircut'] = collateral.apply(lambda row: random.uniform(*haircut_ranges[row['CollateralType']]), axis=1)"
   ]
  },
  {
   "cell_type": "markdown",
   "metadata": {},
   "source": [
    "# GENERATE TRANSACTIONS"
   ]
  },
  {
   "cell_type": "code",
   "execution_count": 29,
   "metadata": {},
   "outputs": [
    {
     "data": {
      "text/html": [
       "<div>\n",
       "<style scoped>\n",
       "    .dataframe tbody tr th:only-of-type {\n",
       "        vertical-align: middle;\n",
       "    }\n",
       "\n",
       "    .dataframe tbody tr th {\n",
       "        vertical-align: top;\n",
       "    }\n",
       "\n",
       "    .dataframe thead th {\n",
       "        text-align: right;\n",
       "    }\n",
       "</style>\n",
       "<table border=\"1\" class=\"dataframe\">\n",
       "  <thead>\n",
       "    <tr style=\"text-align: right;\">\n",
       "      <th></th>\n",
       "      <th>ID</th>\n",
       "      <th>startDate</th>\n",
       "      <th>maturityDate</th>\n",
       "      <th>cashAmount</th>\n",
       "      <th>repoType</th>\n",
       "      <th>repoRate</th>\n",
       "      <th>InitialMargin</th>\n",
       "    </tr>\n",
       "  </thead>\n",
       "  <tbody>\n",
       "    <tr>\n",
       "      <th>0</th>\n",
       "      <td>1MFSX1Z5</td>\n",
       "      <td>2025-02-20</td>\n",
       "      <td>2025-02-21</td>\n",
       "      <td>1753396.98</td>\n",
       "      <td>Bilateral</td>\n",
       "      <td>0.0345</td>\n",
       "      <td>0.0103</td>\n",
       "    </tr>\n",
       "    <tr>\n",
       "      <th>1</th>\n",
       "      <td>PKYR0VQ7</td>\n",
       "      <td>2024-05-28</td>\n",
       "      <td>2024-05-29</td>\n",
       "      <td>7549623.80</td>\n",
       "      <td>Bilateral</td>\n",
       "      <td>0.0924</td>\n",
       "      <td>0.0266</td>\n",
       "    </tr>\n",
       "    <tr>\n",
       "      <th>2</th>\n",
       "      <td>FKE4ALON</td>\n",
       "      <td>2024-12-11</td>\n",
       "      <td>2024-12-12</td>\n",
       "      <td>2098801.09</td>\n",
       "      <td>Tri-Party</td>\n",
       "      <td>0.0854</td>\n",
       "      <td>0.0230</td>\n",
       "    </tr>\n",
       "    <tr>\n",
       "      <th>3</th>\n",
       "      <td>AVR4AOLO</td>\n",
       "      <td>2024-07-19</td>\n",
       "      <td>2024-07-20</td>\n",
       "      <td>4500735.53</td>\n",
       "      <td>Bilateral</td>\n",
       "      <td>0.0752</td>\n",
       "      <td>0.0151</td>\n",
       "    </tr>\n",
       "    <tr>\n",
       "      <th>4</th>\n",
       "      <td>IDKLL5NB</td>\n",
       "      <td>2024-05-23</td>\n",
       "      <td>2024-05-24</td>\n",
       "      <td>2834079.14</td>\n",
       "      <td>Bilateral</td>\n",
       "      <td>0.0576</td>\n",
       "      <td>0.0299</td>\n",
       "    </tr>\n",
       "  </tbody>\n",
       "</table>\n",
       "</div>"
      ],
      "text/plain": [
       "         ID   startDate maturityDate  cashAmount   repoType  repoRate  \\\n",
       "0  1MFSX1Z5  2025-02-20   2025-02-21  1753396.98  Bilateral    0.0345   \n",
       "1  PKYR0VQ7  2024-05-28   2024-05-29  7549623.80  Bilateral    0.0924   \n",
       "2  FKE4ALON  2024-12-11   2024-12-12  2098801.09  Tri-Party    0.0854   \n",
       "3  AVR4AOLO  2024-07-19   2024-07-20  4500735.53  Bilateral    0.0752   \n",
       "4  IDKLL5NB  2024-05-23   2024-05-24  2834079.14  Bilateral    0.0576   \n",
       "\n",
       "   InitialMargin  \n",
       "0         0.0103  \n",
       "1         0.0266  \n",
       "2         0.0230  \n",
       "3         0.0151  \n",
       "4         0.0299  "
      ]
     },
     "execution_count": 29,
     "metadata": {},
     "output_type": "execute_result"
    }
   ],
   "source": [
    "import pandas as pd\n",
    "import random\n",
    "from datetime import datetime, timedelta\n",
    "import string\n",
    "\n",
    "# Define the date range for start dates\n",
    "start_date_range = datetime(2024, 1, 1)\n",
    "end_date_range = datetime(2025, 3, 31)\n",
    "days_between = (end_date_range - start_date_range).days\n",
    "\n",
    "def generate_transaction():\n",
    "    random_days = random.randint(0, days_between)\n",
    "    start_date = start_date_range + timedelta(days=random_days)\n",
    "    maturity_date = start_date + timedelta(days=1)  # Overnight repo\n",
    "\n",
    "    transaction_id = ''.join(random.choices(string.ascii_uppercase + string.digits, k=8))\n",
    "\n",
    "    return {\n",
    "        \"ID\": transaction_id,\n",
    "        \"startDate\": start_date.strftime(\"%Y-%m-%d\"),\n",
    "        \"maturityDate\": maturity_date.strftime(\"%Y-%m-%d\"),\n",
    "        \"cashAmount\": round(random.uniform(1_000_000, 10_000_000), 2),\n",
    "        \"repoType\": random.choice([\"Tri-Party\", \"Bilateral\"]),\n",
    "        \"repoRate\": round(random.uniform(0.01, 0.10), 4),\n",
    "        \"InitialMargin\": round(random.uniform(0.01, 0.03), 4)\n",
    "    }\n",
    "\n",
    "# Generate 500 transactions\n",
    "transactions = [generate_transaction() for _ in range(500)]\n",
    "\n",
    "# Convert to DataFrame for easier viewing or exporting\n",
    "df_transactions = pd.DataFrame(transactions)\n",
    "\n",
    "# Display the first few rows\n",
    "df_transactions.head()\n"
   ]
  },
  {
   "cell_type": "markdown",
   "metadata": {},
   "source": [
    "# Print Counterparties and Transactions Test Data"
   ]
  },
  {
   "cell_type": "code",
   "execution_count": 30,
   "metadata": {},
   "outputs": [
    {
     "name": "stdout",
     "output_type": "stream",
     "text": [
      "Counterparties:\n",
      "    CounterpartyID CounterpartyName CreditRating\n",
      "0               1          Party 1          AAA\n",
      "1               2          Party 2          BBB\n",
      "2               3          Party 3            A\n",
      "3               4          Party 4          AAA\n",
      "4               5          Party 5            A\n",
      "\n",
      "Repo Transactions:\n",
      "          ID   startDate maturityDate  cashAmount   repoType  repoRate  \\\n",
      "0  1MFSX1Z5  2025-02-20   2025-02-21  1753396.98  Bilateral    0.0345   \n",
      "1  PKYR0VQ7  2024-05-28   2024-05-29  7549623.80  Bilateral    0.0924   \n",
      "2  FKE4ALON  2024-12-11   2024-12-12  2098801.09  Tri-Party    0.0854   \n",
      "3  AVR4AOLO  2024-07-19   2024-07-20  4500735.53  Bilateral    0.0752   \n",
      "4  IDKLL5NB  2024-05-23   2024-05-24  2834079.14  Bilateral    0.0576   \n",
      "\n",
      "   InitialMargin  \n",
      "0         0.0103  \n",
      "1         0.0266  \n",
      "2         0.0230  \n",
      "3         0.0151  \n",
      "4         0.0299  \n"
     ]
    }
   ],
   "source": [
    "print(\"Counterparties:\\n\", counterparties.head())\n",
    "# print(\"\\nCollateral:\\n\", collateral.head())\n",
    "print(\"\\nRepo Transactions:\\n\", df_transactions.head())\n",
    "\n",
    "counterparties.to_csv('counterparties.csv', index=False)\n",
    "# collateral.to_csv('collateral.csv', index=False)\n",
    "df_transactions.to_csv('transactions.csv', index=False)"
   ]
  },
  {
   "cell_type": "markdown",
   "metadata": {},
   "source": [
    "## Install Neo4j library"
   ]
  },
  {
   "cell_type": "code",
   "execution_count": 31,
   "metadata": {},
   "outputs": [
    {
     "name": "stdout",
     "output_type": "stream",
     "text": [
      "Requirement already satisfied: neo4j in d:\\users\\tony.yang\\appdata\\local\\programs\\python\\python313\\lib\\site-packages (5.28.1)\n",
      "Requirement already satisfied: pytz in d:\\users\\tony.yang\\appdata\\local\\programs\\python\\python313\\lib\\site-packages (from neo4j) (2024.2)\n",
      "Note: you may need to restart the kernel to use updated packages.\n"
     ]
    },
    {
     "name": "stderr",
     "output_type": "stream",
     "text": [
      "\n",
      "[notice] A new release of pip is available: 24.3.1 -> 25.0.1\n",
      "[notice] To update, run: python.exe -m pip install --upgrade pip\n"
     ]
    }
   ],
   "source": [
    "pip install neo4j\n"
   ]
  },
  {
   "cell_type": "markdown",
   "metadata": {},
   "source": [
    "## Make a connection to the Neo4j Database. Create two dataframes to store counterparties and transactions from the csvs"
   ]
  },
  {
   "cell_type": "code",
   "execution_count": null,
   "metadata": {},
   "outputs": [],
   "source": [
    "from neo4j import GraphDatabase\n",
    "import pandas as pd\n",
    "\n",
    "# Load your CSVs (make sure they're in the same directory or update path)\n",
    "df_counterparties = pd.read_csv(\"counterparties.csv\")\n",
    "df_transactions = pd.read_csv(\"transactions.csv\")\n",
    "\n",
    "# Connection credentials\n",
    "NEO4J_URI = \"neo4j://ec2-44-215-43-76.compute-1.amazonaws.com:7687\"  # Update this\n",
    "NEO4J_USER = \"neo4j\"\n",
    "NEO4J_PASSWORD = \"admin\"  # Replace with actual password\n",
    "\n",
    "# Set up the driver\n",
    "driver = GraphDatabase.driver(NEO4J_URI, auth=(NEO4J_USER, NEO4J_PASSWORD))\n"
   ]
  },
  {
   "cell_type": "markdown",
   "metadata": {},
   "source": [
    "## Load Counteries and Transactions Data into the Neo4j Cluster"
   ]
  },
  {
   "cell_type": "code",
   "execution_count": 17,
   "metadata": {},
   "outputs": [],
   "source": [
    "def load_counterparties(tx, row):\n",
    "    query = \"\"\"\n",
    "    MERGE (c:Counterparty {id: $CounterpartyID})\n",
    "    SET c.name = $CounterpartyName,\n",
    "        c.rating = $CreditRating\n",
    "    \"\"\"\n",
    "    tx.run(query, **row)\n",
    "\n",
    "def load_transactions(tx, row):\n",
    "    query = \"\"\"\n",
    "    MERGE (t:Transaction {id: $ID})\n",
    "    SET t.startDate = $startDate,\n",
    "        t.maturityDate = $maturityDate,\n",
    "        t.cashAmount = $cashAmount,\n",
    "        t.repoType = $repoType,\n",
    "        t.repoRate = $repoRate,\n",
    "        t.InitialMargin = $InitialMargin\n",
    "    \"\"\"\n",
    "    tx.run(query, **row)\n"
   ]
  },
  {
   "cell_type": "markdown",
   "metadata": {},
   "source": [
    "## Write the data into Neo4j"
   ]
  },
  {
   "cell_type": "code",
   "execution_count": 18,
   "metadata": {},
   "outputs": [
    {
     "name": "stderr",
     "output_type": "stream",
     "text": [
      "D:\\Users\\tony.yang\\AppData\\Local\\Temp\\1\\ipykernel_9556\\3999102408.py:10: DeprecationWarning: write_transaction has been renamed to execute_write\n",
      "  session.write_transaction(load_counterparties, row.to_dict())\n",
      "D:\\Users\\tony.yang\\AppData\\Local\\Temp\\1\\ipykernel_9556\\3999102408.py:13: DeprecationWarning: write_transaction has been renamed to execute_write\n",
      "  session.write_transaction(load_transactions, row.to_dict())\n"
     ]
    }
   ],
   "source": [
    "import pandas as pd\n",
    "\n",
    "# Load the CSVs\n",
    "df_counterparties = pd.read_csv(\"counterparties.csv\")\n",
    "df_transactions = pd.read_csv(\"transactions.csv\")\n",
    "\n",
    "# Write data into Neo4j\n",
    "with driver.session() as session:\n",
    "    for _, row in df_counterparties.iterrows():\n",
    "        session.write_transaction(load_counterparties, row.to_dict())\n",
    "\n",
    "    for _, row in df_transactions.iterrows():\n",
    "        session.write_transaction(load_transactions, row.to_dict())\n"
   ]
  },
  {
   "cell_type": "markdown",
   "metadata": {},
   "source": [
    "## Define the relationships between Counterparty to Transactions\n",
    "### For this initial set of relationships for a single transaction depending on the repo type (Tri-Party, Bilateral) the following relationship is defined.\n",
    "\n",
    "### For a given single <b>Tri-Party</b> repo type transaction, there will be 3 unique counter parties associated with the transaction.  Each counterparty will either be a <b>Lender, Borrower, or Intermediary</b>\n",
    "\n",
    "### For a given single <b>Bilateral</b> repo type transaction, there will be 2 unique counter parties associated with the transaction.  Each counterparty will either be a <b>Lender or Borrower </b>\n",
    "\n",
    " "
   ]
  },
  {
   "cell_type": "code",
   "execution_count": 26,
   "metadata": {},
   "outputs": [
    {
     "name": "stderr",
     "output_type": "stream",
     "text": [
      "D:\\Users\\tony.yang\\AppData\\Local\\Temp\\1\\ipykernel_9556\\2925690090.py:30: DeprecationWarning: write_transaction has been renamed to execute_write\n",
      "  session.write_transaction(clear_existing_relationships)\n",
      "[#D4DD]  _: <CONNECTION> error: Failed to read from defunct connection ResolvedIPv4Address(('44.215.43.76', 7687)) (ResolvedIPv4Address(('44.215.43.76', 7687))): ConnectionResetError(10054, 'An existing connection was forcibly closed by the remote host', None, 10054, None)\n",
      "Unable to retrieve routing information\n",
      "Transaction failed and will be retried in 0.852247244825661s (Unable to retrieve routing information)\n",
      "D:\\Users\\tony.yang\\AppData\\Local\\Temp\\1\\ipykernel_9556\\2925690090.py:59: DeprecationWarning: write_transaction has been renamed to execute_write\n",
      "  session.write_transaction(link_transaction_with_roles, tx_id, repo_type, counterparties_roles)\n"
     ]
    }
   ],
   "source": [
    "import random\n",
    "\n",
    "# All available counterparty IDs\n",
    "counterparty_ids = df_counterparties[\"CounterpartyID\"].tolist()\n",
    "\n",
    "# Role sets for each transaction type\n",
    "tri_party_roles = [\"lends\", \"borrows\", \"intermediates\"]\n",
    "bilateral_roles = [\"lends\", \"borrows\"]\n",
    "\n",
    "# Clear existing relationships first if needed\n",
    "def clear_existing_relationships(tx):\n",
    "    tx.run(\"\"\"\n",
    "    MATCH (c:Counterparty)-[r]->(t:Transaction)\n",
    "    DELETE r\n",
    "    \"\"\")\n",
    "\n",
    "# Relationship creation logic based on repo type\n",
    "def link_transaction_with_roles(tx, transaction_id, repo_type, counterparties_roles):\n",
    "    for counterparty_id, role in counterparties_roles:\n",
    "        query = f\"\"\"\n",
    "        MATCH (c:Counterparty {{id: $counterparty_id}})\n",
    "        MATCH (t:Transaction {{id: $transaction_id}})\n",
    "        MERGE (c)-[r:{role.upper()}]->(t)\n",
    "        \"\"\"\n",
    "        tx.run(query, counterparty_id=counterparty_id, transaction_id=transaction_id)\n",
    "\n",
    "# Apply the logic\n",
    "with driver.session() as session:\n",
    "    # Optional: Clear previous relationships\n",
    "    session.write_transaction(clear_existing_relationships)\n",
    "\n",
    "    used_assignments = set()  # to track used (transaction_id, counterparty_id) pairs\n",
    "\n",
    "    for _, row in df_transactions.iterrows():\n",
    "        tx_id = row[\"ID\"]\n",
    "        repo_type = row[\"repoType\"]\n",
    "        \n",
    "        # Ensure unique counterparties per transaction\n",
    "        if repo_type == \"Tri-Party\":\n",
    "            selected_roles = tri_party_roles\n",
    "        elif repo_type == \"Bilateral\":\n",
    "            selected_roles = bilateral_roles\n",
    "        else:\n",
    "            continue  # Skip unknown repo types\n",
    "        \n",
    "        # Get N unique counterparties for the transaction\n",
    "        selected_counterparties = random.sample(counterparty_ids, len(selected_roles))\n",
    "        \n",
    "        # Assign roles to those counterparties\n",
    "        counterparties_roles = list(zip(selected_counterparties, selected_roles))\n",
    "        \n",
    "        # Ensure uniqueness across transaction/role/counterparty\n",
    "        if all((tx_id, cp_id) not in used_assignments for cp_id, _ in counterparties_roles):\n",
    "            # Register assignments to prevent duplicates\n",
    "            for cp_id, _ in counterparties_roles:\n",
    "                used_assignments.add((tx_id, cp_id))\n",
    "            \n",
    "            # Write to Neo4j\n",
    "            session.write_transaction(link_transaction_with_roles, tx_id, repo_type, counterparties_roles)\n"
   ]
  }
 ],
 "metadata": {
  "kernelspec": {
   "display_name": "Python 3",
   "language": "python",
   "name": "python3"
  },
  "language_info": {
   "codemirror_mode": {
    "name": "ipython",
    "version": 3
   },
   "file_extension": ".py",
   "mimetype": "text/x-python",
   "name": "python",
   "nbconvert_exporter": "python",
   "pygments_lexer": "ipython3",
   "version": "3.13.1"
  }
 },
 "nbformat": 4,
 "nbformat_minor": 2
}
